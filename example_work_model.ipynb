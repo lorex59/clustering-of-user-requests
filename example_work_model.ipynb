{
 "cells": [
  {
   "cell_type": "code",
   "execution_count": 1,
   "metadata": {},
   "outputs": [],
   "source": [
    "from model import ClassificationModel\n",
    "import joblib"
   ]
  },
  {
   "cell_type": "code",
   "execution_count": 2,
   "metadata": {},
   "outputs": [],
   "source": [
    "# Загружаем модели из файлов\n",
    "catboost_model = joblib.load('models/job_classifier_model.pkl')\n",
    "ovr_busy = joblib.load('models/busy_classifier_model.pkl')\n",
    "ovr_additional_feature = joblib.load('models/additional_feature_classifier_model.pkl')\n",
    "catboost_model_condition = joblib.load('models/condition_classifier_model.pkl')\n",
    "catboost_model_general_question = joblib.load('models/general_question_classifier_model.pkl')\n",
    "count_vectorizer = joblib.load('models/count_vectorizer.pkl')"
   ]
  },
  {
   "cell_type": "code",
   "execution_count": 3,
   "metadata": {},
   "outputs": [],
   "source": [
    "# Создаем экземпляр модели\n",
    "classification_model = ClassificationModel(\n",
    "    job_classifier_model=catboost_model,\n",
    "    general_question_classifier_model=catboost_model_general_question,\n",
    "    busy_classifier_model=ovr_busy,\n",
    "    additional_feature_classifier_model=ovr_additional_feature,\n",
    "    condition_classifier_model=catboost_model_condition,\n",
    "    count_vectorizer=count_vectorizer\n",
    ")"
   ]
  },
  {
   "cell_type": "code",
   "execution_count": 16,
   "metadata": {},
   "outputs": [],
   "source": [
    "query = \"работа от работодатель персональный водитель студент мужчины\""
   ]
  },
  {
   "cell_type": "code",
   "execution_count": 17,
   "metadata": {},
   "outputs": [
    {
     "data": {
      "text/plain": [
       "{'Работа': 'водитель',\n",
       " 'Занятость': '',\n",
       " 'Дополнительный признак': 'для мужчин, для студентов',\n",
       " 'Условия': 'None'}"
      ]
     },
     "execution_count": 17,
     "metadata": {},
     "output_type": "execute_result"
    }
   ],
   "source": [
    "classification_model.predict(query)"
   ]
  }
 ],
 "metadata": {
  "kernelspec": {
   "display_name": "machine",
   "language": "python",
   "name": "python3"
  },
  "language_info": {
   "codemirror_mode": {
    "name": "ipython",
    "version": 3
   },
   "file_extension": ".py",
   "mimetype": "text/x-python",
   "name": "python",
   "nbconvert_exporter": "python",
   "pygments_lexer": "ipython3",
   "version": "3.12.2"
  }
 },
 "nbformat": 4,
 "nbformat_minor": 2
}
