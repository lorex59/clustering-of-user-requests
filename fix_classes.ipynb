{
 "cells": [
  {
   "cell_type": "markdown",
   "metadata": {},
   "source": [
    "# Кластеризация запроса пользователя\n",
    "\n",
    "Необходимо сделать алгоритм, который кластеризует запросы, выделить с помощью него семантические группы. В итоге по входному списку поисковых запросов должен выдаваться список запросов с кластерами для них по разным семантическим признакам.\n",
    "Кластеризацию сделать по следующим признакам:\n",
    "1. по занятости (Фильтр Занятость: подработка, ночная, вечерняя, посменная, вахта и тд.)\n",
    "2. по должности-лемме (повар, строитель, водитель и тд.)\n",
    "3. по дополнительному признаку: для инвалидов, для студентов, для школьников, для пенсионеров, для мужчин, для женщин\n",
    "4. по условиям: с ежедневной оплатой, с проживанием\n",
    "5. общие фразы про работу (не содержит других признаков)\n",
    "\n",
    "Одна и та же фраза может попасть в разные кластеры"
   ]
  },
  {
   "cell_type": "markdown",
   "metadata": {},
   "source": [
    "## Загрузка данных"
   ]
  },
  {
   "cell_type": "code",
   "execution_count": 80,
   "metadata": {},
   "outputs": [],
   "source": [
    "import pandas as pd\n",
    "import numpy as np"
   ]
  },
  {
   "cell_type": "code",
   "execution_count": 81,
   "metadata": {},
   "outputs": [],
   "source": [
    "df = pd.read_csv(\"data/answers.csv\", index_col=0)\n"
   ]
  },
  {
   "cell_type": "code",
   "execution_count": 82,
   "metadata": {},
   "outputs": [
    {
     "data": {
      "text/html": [
       "<div>\n",
       "<style scoped>\n",
       "    .dataframe tbody tr th:only-of-type {\n",
       "        vertical-align: middle;\n",
       "    }\n",
       "\n",
       "    .dataframe tbody tr th {\n",
       "        vertical-align: top;\n",
       "    }\n",
       "\n",
       "    .dataframe thead th {\n",
       "        text-align: right;\n",
       "    }\n",
       "</style>\n",
       "<table border=\"1\" class=\"dataframe\">\n",
       "  <thead>\n",
       "    <tr style=\"text-align: right;\">\n",
       "      <th></th>\n",
       "      <th>query</th>\n",
       "      <th>занятость</th>\n",
       "      <th>по должности-лемме</th>\n",
       "      <th>по дополнительному признаку</th>\n",
       "      <th>по условиям</th>\n",
       "      <th>общие фразы</th>\n",
       "    </tr>\n",
       "  </thead>\n",
       "  <tbody>\n",
       "    <tr>\n",
       "      <th>0</th>\n",
       "      <td>фарпост работа владивосток</td>\n",
       "      <td>NaN</td>\n",
       "      <td>NaN</td>\n",
       "      <td>NaN</td>\n",
       "      <td>NaN</td>\n",
       "      <td>общая фраза</td>\n",
       "    </tr>\n",
       "    <tr>\n",
       "      <th>1</th>\n",
       "      <td>кофейни вакансии</td>\n",
       "      <td>NaN</td>\n",
       "      <td>NaN</td>\n",
       "      <td>NaN</td>\n",
       "      <td>NaN</td>\n",
       "      <td>общая фраза</td>\n",
       "    </tr>\n",
       "    <tr>\n",
       "      <th>2</th>\n",
       "      <td>работа разнорабочие часовой</td>\n",
       "      <td>NaN</td>\n",
       "      <td>Рабочий</td>\n",
       "      <td>NaN</td>\n",
       "      <td>NaN</td>\n",
       "      <td>NaN</td>\n",
       "    </tr>\n",
       "    <tr>\n",
       "      <th>3</th>\n",
       "      <td>личный водитель на день</td>\n",
       "      <td>на неполный день</td>\n",
       "      <td>Водитель</td>\n",
       "      <td>NaN</td>\n",
       "      <td>NaN</td>\n",
       "      <td>NaN</td>\n",
       "    </tr>\n",
       "    <tr>\n",
       "      <th>4</th>\n",
       "      <td>работа от работодателя персональный водитель</td>\n",
       "      <td>NaN</td>\n",
       "      <td>Водитель</td>\n",
       "      <td>NaN</td>\n",
       "      <td>NaN</td>\n",
       "      <td>NaN</td>\n",
       "    </tr>\n",
       "    <tr>\n",
       "      <th>...</th>\n",
       "      <td>...</td>\n",
       "      <td>...</td>\n",
       "      <td>...</td>\n",
       "      <td>...</td>\n",
       "      <td>...</td>\n",
       "      <td>...</td>\n",
       "    </tr>\n",
       "    <tr>\n",
       "      <th>14240</th>\n",
       "      <td>япония вакансии</td>\n",
       "      <td>NaN</td>\n",
       "      <td>NaN</td>\n",
       "      <td>NaN</td>\n",
       "      <td>NaN</td>\n",
       "      <td>общая фраза</td>\n",
       "    </tr>\n",
       "    <tr>\n",
       "      <th>14241</th>\n",
       "      <td>япония работа</td>\n",
       "      <td>NaN</td>\n",
       "      <td>NaN</td>\n",
       "      <td>NaN</td>\n",
       "      <td>NaN</td>\n",
       "      <td>общая фраза</td>\n",
       "    </tr>\n",
       "    <tr>\n",
       "      <th>14242</th>\n",
       "      <td>японский язык работа</td>\n",
       "      <td>NaN</td>\n",
       "      <td>NaN</td>\n",
       "      <td>NaN</td>\n",
       "      <td>NaN</td>\n",
       "      <td>общая фраза</td>\n",
       "    </tr>\n",
       "    <tr>\n",
       "      <th>14243</th>\n",
       "      <td>яппи вакансии</td>\n",
       "      <td>NaN</td>\n",
       "      <td>NaN</td>\n",
       "      <td>NaN</td>\n",
       "      <td>NaN</td>\n",
       "      <td>общая фраза</td>\n",
       "    </tr>\n",
       "    <tr>\n",
       "      <th>14244</th>\n",
       "      <td>ёбидоёби вакансии</td>\n",
       "      <td>NaN</td>\n",
       "      <td>NaN</td>\n",
       "      <td>NaN</td>\n",
       "      <td>NaN</td>\n",
       "      <td>общая фраза</td>\n",
       "    </tr>\n",
       "  </tbody>\n",
       "</table>\n",
       "<p>14245 rows × 6 columns</p>\n",
       "</div>"
      ],
      "text/plain": [
       "                                              query         занятость  \\\n",
       "0                        фарпост работа владивосток               NaN   \n",
       "1                                  кофейни вакансии               NaN   \n",
       "2                       работа разнорабочие часовой               NaN   \n",
       "3                           личный водитель на день  на неполный день   \n",
       "4      работа от работодателя персональный водитель               NaN   \n",
       "...                                             ...               ...   \n",
       "14240                               япония вакансии               NaN   \n",
       "14241                                 япония работа               NaN   \n",
       "14242                          японский язык работа               NaN   \n",
       "14243                                 яппи вакансии               NaN   \n",
       "14244                             ёбидоёби вакансии               NaN   \n",
       "\n",
       "      по должности-лемме по дополнительному признаку по условиям  общие фразы  \n",
       "0                    NaN                         NaN         NaN  общая фраза  \n",
       "1                    NaN                         NaN         NaN  общая фраза  \n",
       "2                Рабочий                         NaN         NaN          NaN  \n",
       "3               Водитель                         NaN         NaN          NaN  \n",
       "4               Водитель                         NaN         NaN          NaN  \n",
       "...                  ...                         ...         ...          ...  \n",
       "14240                NaN                         NaN         NaN  общая фраза  \n",
       "14241                NaN                         NaN         NaN  общая фраза  \n",
       "14242                NaN                         NaN         NaN  общая фраза  \n",
       "14243                NaN                         NaN         NaN  общая фраза  \n",
       "14244                NaN                         NaN         NaN  общая фраза  \n",
       "\n",
       "[14245 rows x 6 columns]"
      ]
     },
     "execution_count": 82,
     "metadata": {},
     "output_type": "execute_result"
    }
   ],
   "source": [
    "df"
   ]
  },
  {
   "cell_type": "markdown",
   "metadata": {},
   "source": [
    "## Анализ меток"
   ]
  },
  {
   "cell_type": "code",
   "execution_count": 83,
   "metadata": {},
   "outputs": [
    {
     "name": "stdout",
     "output_type": "stream",
     "text": [
      "занятость\n",
      "Кол-во непустых: 1551\n",
      "Количество с комбинациями: 190\n",
      "\n",
      "по должности-лемме\n",
      "Кол-во непустых: 7883\n",
      "Количество с комбинациями: 431\n",
      "\n",
      "по дополнительному признаку\n",
      "Кол-во непустых: 849\n",
      "Количество с комбинациями: 22\n",
      "\n",
      "по условиям\n",
      "Кол-во непустых: 566\n",
      "Количество с комбинациями: 0\n",
      "\n",
      "общие фразы\n",
      "Кол-во непустых: 5223\n",
      "Количество с комбинациями: 0\n",
      "\n"
     ]
    }
   ],
   "source": [
    "# видно, что тут задача мультиклассификации, так как меток несколько\n",
    "for col in  df.drop(columns=['query']).columns:\n",
    "    print(col)\n",
    "    print(f\"Кол-во непустых: {(~df[col].isna()).sum()}\")\n",
    "    print(f\"Количество с комбинациями: {df[col].str.contains(',').sum()}\")\n",
    "    print()"
   ]
  },
  {
   "cell_type": "code",
   "execution_count": 84,
   "metadata": {},
   "outputs": [
    {
     "data": {
      "text/plain": [
       "по условиям\n",
       "с ежедневной оплатой    374\n",
       "с проживанием           192\n",
       "Name: count, dtype: int64"
      ]
     },
     "execution_count": 84,
     "metadata": {},
     "output_type": "execute_result"
    }
   ],
   "source": [
    "col = \"по условиям\"\n",
    "df[col].str.split(',').explode().value_counts()"
   ]
  },
  {
   "cell_type": "markdown",
   "metadata": {},
   "source": [
    "## Формирование списка меток"
   ]
  },
  {
   "cell_type": "code",
   "execution_count": 85,
   "metadata": {},
   "outputs": [
    {
     "data": {
      "text/html": [
       "<div>\n",
       "<style scoped>\n",
       "    .dataframe tbody tr th:only-of-type {\n",
       "        vertical-align: middle;\n",
       "    }\n",
       "\n",
       "    .dataframe tbody tr th {\n",
       "        vertical-align: top;\n",
       "    }\n",
       "\n",
       "    .dataframe thead th {\n",
       "        text-align: right;\n",
       "    }\n",
       "</style>\n",
       "<table border=\"1\" class=\"dataframe\">\n",
       "  <thead>\n",
       "    <tr style=\"text-align: right;\">\n",
       "      <th></th>\n",
       "      <th>query</th>\n",
       "      <th>занятость</th>\n",
       "      <th>по должности-лемме</th>\n",
       "      <th>по дополнительному признаку</th>\n",
       "      <th>по условиям</th>\n",
       "      <th>общие фразы</th>\n",
       "    </tr>\n",
       "  </thead>\n",
       "  <tbody>\n",
       "    <tr>\n",
       "      <th>0</th>\n",
       "      <td>фарпост работа владивосток</td>\n",
       "      <td>NaN</td>\n",
       "      <td>NaN</td>\n",
       "      <td>NaN</td>\n",
       "      <td>NaN</td>\n",
       "      <td>[общая фраза]</td>\n",
       "    </tr>\n",
       "    <tr>\n",
       "      <th>1</th>\n",
       "      <td>кофейни вакансии</td>\n",
       "      <td>NaN</td>\n",
       "      <td>NaN</td>\n",
       "      <td>NaN</td>\n",
       "      <td>NaN</td>\n",
       "      <td>[общая фраза]</td>\n",
       "    </tr>\n",
       "    <tr>\n",
       "      <th>2</th>\n",
       "      <td>работа разнорабочие часовой</td>\n",
       "      <td>NaN</td>\n",
       "      <td>[рабочий]</td>\n",
       "      <td>NaN</td>\n",
       "      <td>NaN</td>\n",
       "      <td>NaN</td>\n",
       "    </tr>\n",
       "    <tr>\n",
       "      <th>3</th>\n",
       "      <td>личный водитель на день</td>\n",
       "      <td>[на неполный день]</td>\n",
       "      <td>[водитель]</td>\n",
       "      <td>NaN</td>\n",
       "      <td>NaN</td>\n",
       "      <td>NaN</td>\n",
       "    </tr>\n",
       "    <tr>\n",
       "      <th>4</th>\n",
       "      <td>работа от работодателя персональный водитель</td>\n",
       "      <td>NaN</td>\n",
       "      <td>[водитель]</td>\n",
       "      <td>NaN</td>\n",
       "      <td>NaN</td>\n",
       "      <td>NaN</td>\n",
       "    </tr>\n",
       "    <tr>\n",
       "      <th>...</th>\n",
       "      <td>...</td>\n",
       "      <td>...</td>\n",
       "      <td>...</td>\n",
       "      <td>...</td>\n",
       "      <td>...</td>\n",
       "      <td>...</td>\n",
       "    </tr>\n",
       "    <tr>\n",
       "      <th>14240</th>\n",
       "      <td>япония вакансии</td>\n",
       "      <td>NaN</td>\n",
       "      <td>NaN</td>\n",
       "      <td>NaN</td>\n",
       "      <td>NaN</td>\n",
       "      <td>[общая фраза]</td>\n",
       "    </tr>\n",
       "    <tr>\n",
       "      <th>14241</th>\n",
       "      <td>япония работа</td>\n",
       "      <td>NaN</td>\n",
       "      <td>NaN</td>\n",
       "      <td>NaN</td>\n",
       "      <td>NaN</td>\n",
       "      <td>[общая фраза]</td>\n",
       "    </tr>\n",
       "    <tr>\n",
       "      <th>14242</th>\n",
       "      <td>японский язык работа</td>\n",
       "      <td>NaN</td>\n",
       "      <td>NaN</td>\n",
       "      <td>NaN</td>\n",
       "      <td>NaN</td>\n",
       "      <td>[общая фраза]</td>\n",
       "    </tr>\n",
       "    <tr>\n",
       "      <th>14243</th>\n",
       "      <td>яппи вакансии</td>\n",
       "      <td>NaN</td>\n",
       "      <td>NaN</td>\n",
       "      <td>NaN</td>\n",
       "      <td>NaN</td>\n",
       "      <td>[общая фраза]</td>\n",
       "    </tr>\n",
       "    <tr>\n",
       "      <th>14244</th>\n",
       "      <td>ёбидоёби вакансии</td>\n",
       "      <td>NaN</td>\n",
       "      <td>NaN</td>\n",
       "      <td>NaN</td>\n",
       "      <td>NaN</td>\n",
       "      <td>[общая фраза]</td>\n",
       "    </tr>\n",
       "  </tbody>\n",
       "</table>\n",
       "<p>14245 rows × 6 columns</p>\n",
       "</div>"
      ],
      "text/plain": [
       "                                              query           занятость  \\\n",
       "0                        фарпост работа владивосток                 NaN   \n",
       "1                                  кофейни вакансии                 NaN   \n",
       "2                       работа разнорабочие часовой                 NaN   \n",
       "3                           личный водитель на день  [на неполный день]   \n",
       "4      работа от работодателя персональный водитель                 NaN   \n",
       "...                                             ...                 ...   \n",
       "14240                               япония вакансии                 NaN   \n",
       "14241                                 япония работа                 NaN   \n",
       "14242                          японский язык работа                 NaN   \n",
       "14243                                 яппи вакансии                 NaN   \n",
       "14244                             ёбидоёби вакансии                 NaN   \n",
       "\n",
       "      по должности-лемме по дополнительному признаку по условиям  \\\n",
       "0                    NaN                         NaN         NaN   \n",
       "1                    NaN                         NaN         NaN   \n",
       "2              [рабочий]                         NaN         NaN   \n",
       "3             [водитель]                         NaN         NaN   \n",
       "4             [водитель]                         NaN         NaN   \n",
       "...                  ...                         ...         ...   \n",
       "14240                NaN                         NaN         NaN   \n",
       "14241                NaN                         NaN         NaN   \n",
       "14242                NaN                         NaN         NaN   \n",
       "14243                NaN                         NaN         NaN   \n",
       "14244                NaN                         NaN         NaN   \n",
       "\n",
       "         общие фразы  \n",
       "0      [общая фраза]  \n",
       "1      [общая фраза]  \n",
       "2                NaN  \n",
       "3                NaN  \n",
       "4                NaN  \n",
       "...              ...  \n",
       "14240  [общая фраза]  \n",
       "14241  [общая фраза]  \n",
       "14242  [общая фраза]  \n",
       "14243  [общая фраза]  \n",
       "14244  [общая фраза]  \n",
       "\n",
       "[14245 rows x 6 columns]"
      ]
     },
     "execution_count": 85,
     "metadata": {},
     "output_type": "execute_result"
    }
   ],
   "source": [
    "df_mc = df.copy()\n",
    "for col in df_mc.drop(columns=['query']).columns:\n",
    "    df_mc[col] = df_mc[col].str.strip().str.lower().str.split(',')\n",
    "df_mc"
   ]
  },
  {
   "cell_type": "code",
   "execution_count": 86,
   "metadata": {},
   "outputs": [
    {
     "data": {
      "text/plain": [
       "по должности-лемме\n",
       "[уборщик,  горничная]                        148\n",
       "[медсестра,  медбрат]                        127\n",
       "[руководитель,  начальник]                    79\n",
       "[домработница,  домработник]                  40\n",
       "[гид,  экскурсовод]                            9\n",
       "[декларант,  таможенный брокер]                7\n",
       "[танцовщица,  танцовщик]                       6\n",
       "[гувернантка,  гувернер]                       5\n",
       "[сомелье,  кавист]                             3\n",
       "[кастелянша,  заведующий бельевой]             3\n",
       "[осветитель,  светотехник]                     2\n",
       "[зооняня,  рабочий по уходу за животными]      1\n",
       "[вальщик леса,  лесоруб]                       1\n",
       "Name: count, dtype: int64"
      ]
     },
     "execution_count": 86,
     "metadata": {},
     "output_type": "execute_result"
    }
   ],
   "source": [
    "# желательно использовать все же эмбеддинги\n",
    "col = 'по должности-лемме'\n",
    "df_new = df_mc[(~df_mc[col].isna())]\n",
    "df_new[df_new[col].apply(lambda  x: len(x) > 1)][col].value_counts()"
   ]
  },
  {
   "cell_type": "code",
   "execution_count": 87,
   "metadata": {},
   "outputs": [
    {
     "data": {
      "text/plain": [
       "по дополнительному признаку\n",
       "[для пенсионеров, для женщин]       4\n",
       "[для женщин, для пенсионеров]       3\n",
       "[без опыта, для студентов]          3\n",
       "[для женщин, без опыта]             3\n",
       "[для пенсионеров, для мужчин]       2\n",
       "[для мужчин, для женщин]            2\n",
       "[без опыта, для женщин]             1\n",
       "[для студентов, для школьников]     1\n",
       "[для школьников, для студентов]     1\n",
       "[для пенсионеров, для инвалидов]    1\n",
       "[для студентов, без опыта]          1\n",
       "Name: count, dtype: int64"
      ]
     },
     "execution_count": 87,
     "metadata": {},
     "output_type": "execute_result"
    }
   ],
   "source": [
    "# желательно использовать все же эмбеддинги\n",
    "col = 'по дополнительному признаку'\n",
    "df_new = df_mc[(~df_mc[col].isna())]\n",
    "df_new[df_new[col].apply(lambda  x: len(x) > 1)][col].value_counts()"
   ]
  },
  {
   "cell_type": "code",
   "execution_count": 88,
   "metadata": {},
   "outputs": [
    {
     "data": {
      "text/plain": [
       "занятость\n",
       "[на неполный день, на неполный день]                35\n",
       "[по выходным, на неполный день]                     22\n",
       "[подработка, по выходным]                           19\n",
       "[удаленная, на дому]                                19\n",
       "[вечерняя, подработка]                              13\n",
       "[подработка, на неполный день]                      13\n",
       "[подработка, на дому]                               12\n",
       "[подработка, удаленная]                              7\n",
       "[на дому, удаленная]                                 6\n",
       "[подработка, по выходным, на неполный день]          5\n",
       "[подработка, вечерняя]                               5\n",
       "[ночная, подработка]                                 5\n",
       "[удаленная, подработка]                              3\n",
       "[удаленная, на неполный день]                        3\n",
       "[на неполный день, удаленная]                        2\n",
       "[, вахта]                                            2\n",
       "[временная, подработка]                              2\n",
       "[на дому, подработка]                                2\n",
       "[вечерняя, ночная]                                   1\n",
       "[подработка, по выходным, удаленная]                 1\n",
       "[по выходным, на неполный день, удаленная]           1\n",
       "[вечерняя, по выходным]                              1\n",
       "[удаленная, по выходным]                             1\n",
       "[удаленная, подработка, на дому]                     1\n",
       "[по выходным, на неполный день, подработка]          1\n",
       "[на неполный день, вечерняя]                         1\n",
       "[подработка, , удаленная]                            1\n",
       "[подработка, вечерняя, ночная]                       1\n",
       "[удаленная, ]                                        1\n",
       "[, подработка]                                       1\n",
       "[подработка, на неполный день, на неполный день]     1\n",
       "[по выходным, подработка]                            1\n",
       "[удаленная, на неполный день, на неполный день]      1\n",
       "Name: count, dtype: int64"
      ]
     },
     "execution_count": 88,
     "metadata": {},
     "output_type": "execute_result"
    }
   ],
   "source": [
    "# желательно использовать все же эмбеддинги\n",
    "col = 'занятость'\n",
    "df_new = df_mc[(~df_mc[col].isna())]\n",
    "df_new[df_new[col].apply(lambda  x: len(x) > 1)][col].value_counts()"
   ]
  },
  {
   "cell_type": "code",
   "execution_count": 89,
   "metadata": {},
   "outputs": [
    {
     "data": {
      "text/html": [
       "<div>\n",
       "<style scoped>\n",
       "    .dataframe tbody tr th:only-of-type {\n",
       "        vertical-align: middle;\n",
       "    }\n",
       "\n",
       "    .dataframe tbody tr th {\n",
       "        vertical-align: top;\n",
       "    }\n",
       "\n",
       "    .dataframe thead th {\n",
       "        text-align: right;\n",
       "    }\n",
       "</style>\n",
       "<table border=\"1\" class=\"dataframe\">\n",
       "  <thead>\n",
       "    <tr style=\"text-align: right;\">\n",
       "      <th></th>\n",
       "      <th>query</th>\n",
       "      <th>занятость</th>\n",
       "      <th>по должности-лемме</th>\n",
       "      <th>по дополнительному признаку</th>\n",
       "      <th>по условиям</th>\n",
       "      <th>общие фразы</th>\n",
       "    </tr>\n",
       "  </thead>\n",
       "  <tbody>\n",
       "    <tr>\n",
       "      <th>5197</th>\n",
       "      <td>охрана дома вахта</td>\n",
       "      <td>,Вахта</td>\n",
       "      <td>Вахтер</td>\n",
       "      <td>NaN</td>\n",
       "      <td>NaN</td>\n",
       "      <td>NaN</td>\n",
       "    </tr>\n",
       "    <tr>\n",
       "      <th>5198</th>\n",
       "      <td>охрана загородных домов вахта</td>\n",
       "      <td>,Вахта</td>\n",
       "      <td>Вахтер</td>\n",
       "      <td>NaN</td>\n",
       "      <td>NaN</td>\n",
       "      <td>NaN</td>\n",
       "    </tr>\n",
       "    <tr>\n",
       "      <th>6401</th>\n",
       "      <td>дом уборка подработка</td>\n",
       "      <td>,Подработка</td>\n",
       "      <td>Уборщик, горничная</td>\n",
       "      <td>NaN</td>\n",
       "      <td>NaN</td>\n",
       "      <td>NaN</td>\n",
       "    </tr>\n",
       "  </tbody>\n",
       "</table>\n",
       "</div>"
      ],
      "text/plain": [
       "                              query    занятость  по должности-лемме  \\\n",
       "5197              охрана дома вахта       ,Вахта              Вахтер   \n",
       "5198  охрана загородных домов вахта       ,Вахта              Вахтер   \n",
       "6401          дом уборка подработка  ,Подработка  Уборщик, горничная   \n",
       "\n",
       "     по дополнительному признаку по условиям общие фразы  \n",
       "5197                         NaN         NaN         NaN  \n",
       "5198                         NaN         NaN         NaN  \n",
       "6401                         NaN         NaN         NaN  "
      ]
     },
     "execution_count": 89,
     "metadata": {},
     "output_type": "execute_result"
    }
   ],
   "source": [
    "df[df.index.isin(df_new[df_new[col].apply(lambda x: x[0] == \"\")].index)]"
   ]
  },
  {
   "cell_type": "code",
   "execution_count": 90,
   "metadata": {},
   "outputs": [
    {
     "data": {
      "text/html": [
       "<div>\n",
       "<style scoped>\n",
       "    .dataframe tbody tr th:only-of-type {\n",
       "        vertical-align: middle;\n",
       "    }\n",
       "\n",
       "    .dataframe tbody tr th {\n",
       "        vertical-align: top;\n",
       "    }\n",
       "\n",
       "    .dataframe thead th {\n",
       "        text-align: right;\n",
       "    }\n",
       "</style>\n",
       "<table border=\"1\" class=\"dataframe\">\n",
       "  <thead>\n",
       "    <tr style=\"text-align: right;\">\n",
       "      <th></th>\n",
       "      <th>query</th>\n",
       "      <th>занятость</th>\n",
       "      <th>по должности-лемме</th>\n",
       "      <th>по дополнительному признаку</th>\n",
       "      <th>по условиям</th>\n",
       "      <th>общие фразы</th>\n",
       "    </tr>\n",
       "  </thead>\n",
       "  <tbody>\n",
       "    <tr>\n",
       "      <th>5197</th>\n",
       "      <td>охрана дома вахта</td>\n",
       "      <td>,Вахта</td>\n",
       "      <td>Вахтер</td>\n",
       "      <td>NaN</td>\n",
       "      <td>NaN</td>\n",
       "      <td>NaN</td>\n",
       "    </tr>\n",
       "    <tr>\n",
       "      <th>5198</th>\n",
       "      <td>охрана загородных домов вахта</td>\n",
       "      <td>,Вахта</td>\n",
       "      <td>Вахтер</td>\n",
       "      <td>NaN</td>\n",
       "      <td>NaN</td>\n",
       "      <td>NaN</td>\n",
       "    </tr>\n",
       "  </tbody>\n",
       "</table>\n",
       "</div>"
      ],
      "text/plain": [
       "                              query занятость по должности-лемме  \\\n",
       "5197              охрана дома вахта    ,Вахта             Вахтер   \n",
       "5198  охрана загородных домов вахта    ,Вахта             Вахтер   \n",
       "\n",
       "     по дополнительному признаку по условиям общие фразы  \n",
       "5197                         NaN         NaN         NaN  \n",
       "5198                         NaN         NaN         NaN  "
      ]
     },
     "execution_count": 90,
     "metadata": {},
     "output_type": "execute_result"
    }
   ],
   "source": [
    "df[df[col] == \",Вахта\"]"
   ]
  },
  {
   "cell_type": "markdown",
   "metadata": {},
   "source": [
    "План:\n",
    "1. Разбить на несколько меток `занятость` и `по дополнительному признаку`\n",
    "2. Избавиться от аномалий в виде запятых в начале текста..."
   ]
  },
  {
   "cell_type": "markdown",
   "metadata": {},
   "source": [
    "## Составление списка меток для занятости и доп.признака"
   ]
  },
  {
   "cell_type": "code",
   "execution_count": 91,
   "metadata": {},
   "outputs": [],
   "source": [
    "import re"
   ]
  },
  {
   "cell_type": "code",
   "execution_count": 92,
   "metadata": {},
   "outputs": [
    {
     "data": {
      "text/plain": [
       "занятость\n",
       "подработка          435\n",
       "вахта               407\n",
       "удаленная           302\n",
       "на неполный день    212\n",
       "на дому             181\n",
       "по выходным          69\n",
       "ночная               65\n",
       "вечерняя             52\n",
       "временная            14\n",
       "посменная             5\n",
       "дневная               4\n",
       "посуточная            3\n",
       "Name: count, dtype: int64"
      ]
     },
     "metadata": {},
     "output_type": "display_data"
    },
    {
     "data": {
      "text/plain": [
       "по дополнительному признаку\n",
       "без опыта          469\n",
       "для женщин         137\n",
       "для студентов      104\n",
       "для пенсионеров     63\n",
       "для школьников      43\n",
       "для мужчин          38\n",
       "для инвалидов       17\n",
       "Name: count, dtype: int64"
      ]
     },
     "metadata": {},
     "output_type": "display_data"
    }
   ],
   "source": [
    "df_mc = df.copy()\n",
    "for col in [\"занятость\", \"по дополнительному признаку\"]:\n",
    "    col_index = df_mc[~df_mc[col].isna()].index\n",
    "    temp_col = f\"temp_{col}\"\n",
    "    # df_col[temp_col] = df_col[col].str.strip().str.lower().str.split(',')\n",
    "    for ind in col_index:\n",
    "        descr = df_mc[col].iloc[ind]\n",
    "        item_list = descr.strip(\",. \").lower().split(',')\n",
    "        clear_list = [item.strip(',. ') for item in item_list if item != \"\"]\n",
    "        df_mc.loc[ind, col] = clear_list\n",
    "display(\n",
    "    df_mc[\"занятость\"].explode().value_counts(), \n",
    "    df_mc[\"по дополнительному признаку\"].explode().value_counts(), \n",
    ")"
   ]
  },
  {
   "cell_type": "markdown",
   "metadata": {},
   "source": [
    "### Приведение к норм виду других меток"
   ]
  },
  {
   "cell_type": "code",
   "execution_count": 93,
   "metadata": {},
   "outputs": [],
   "source": [
    "one_class_cols = [\"по должности-лемме\", \"по условиям\"]\n",
    "df_mc[one_class_cols] = df_mc[one_class_cols].apply(\n",
    "    lambda x: x.str.lower()\n",
    ")"
   ]
  },
  {
   "cell_type": "code",
   "execution_count": 94,
   "metadata": {},
   "outputs": [
    {
     "data": {
      "text/plain": [
       "по должности-лемме\n",
       "водитель         1010\n",
       "курьер            434\n",
       "помощник          244\n",
       "вахтер            225\n",
       "модератор         223\n",
       "                 ... \n",
       "дилер               1\n",
       "звукорежиссер       1\n",
       "конюх               1\n",
       "косильщик           1\n",
       "чистильщик          1\n",
       "Name: count, Length: 297, dtype: int64"
      ]
     },
     "execution_count": 94,
     "metadata": {},
     "output_type": "execute_result"
    }
   ],
   "source": [
    "df_mc[one_class_cols[0]].value_counts()"
   ]
  },
  {
   "cell_type": "code",
   "execution_count": 96,
   "metadata": {},
   "outputs": [
    {
     "data": {
      "text/plain": [
       "по условиям\n",
       "с ежедневной оплатой    374\n",
       "с проживанием           192\n",
       "Name: count, dtype: int64"
      ]
     },
     "execution_count": 96,
     "metadata": {},
     "output_type": "execute_result"
    }
   ],
   "source": [
    "df_mc[one_class_cols[1]].value_counts()"
   ]
  },
  {
   "cell_type": "code",
   "execution_count": 100,
   "metadata": {},
   "outputs": [],
   "source": [
    "df_mc['общие фразы'] = df_mc['общие фразы'].fillna(0).map({\"общая фраза\": 1, 0: 0})"
   ]
  },
  {
   "cell_type": "code",
   "execution_count": 105,
   "metadata": {},
   "outputs": [
    {
     "data": {
      "text/html": [
       "<div>\n",
       "<style scoped>\n",
       "    .dataframe tbody tr th:only-of-type {\n",
       "        vertical-align: middle;\n",
       "    }\n",
       "\n",
       "    .dataframe tbody tr th {\n",
       "        vertical-align: top;\n",
       "    }\n",
       "\n",
       "    .dataframe thead th {\n",
       "        text-align: right;\n",
       "    }\n",
       "</style>\n",
       "<table border=\"1\" class=\"dataframe\">\n",
       "  <thead>\n",
       "    <tr style=\"text-align: right;\">\n",
       "      <th></th>\n",
       "      <th>query</th>\n",
       "      <th>занятость</th>\n",
       "      <th>по должности-лемме</th>\n",
       "      <th>по дополнительному признаку</th>\n",
       "      <th>по условиям</th>\n",
       "      <th>общие фразы</th>\n",
       "    </tr>\n",
       "  </thead>\n",
       "  <tbody>\n",
       "    <tr>\n",
       "      <th>0</th>\n",
       "      <td>фарпост работа владивосток</td>\n",
       "      <td>NaN</td>\n",
       "      <td>NaN</td>\n",
       "      <td>NaN</td>\n",
       "      <td>NaN</td>\n",
       "      <td>1</td>\n",
       "    </tr>\n",
       "    <tr>\n",
       "      <th>1</th>\n",
       "      <td>кофейни вакансии</td>\n",
       "      <td>NaN</td>\n",
       "      <td>NaN</td>\n",
       "      <td>NaN</td>\n",
       "      <td>NaN</td>\n",
       "      <td>1</td>\n",
       "    </tr>\n",
       "    <tr>\n",
       "      <th>2</th>\n",
       "      <td>работа разнорабочие часовой</td>\n",
       "      <td>NaN</td>\n",
       "      <td>рабочий</td>\n",
       "      <td>NaN</td>\n",
       "      <td>NaN</td>\n",
       "      <td>0</td>\n",
       "    </tr>\n",
       "    <tr>\n",
       "      <th>3</th>\n",
       "      <td>личный водитель на день</td>\n",
       "      <td>[на неполный день]</td>\n",
       "      <td>водитель</td>\n",
       "      <td>NaN</td>\n",
       "      <td>NaN</td>\n",
       "      <td>0</td>\n",
       "    </tr>\n",
       "    <tr>\n",
       "      <th>4</th>\n",
       "      <td>работа от работодателя персональный водитель</td>\n",
       "      <td>NaN</td>\n",
       "      <td>водитель</td>\n",
       "      <td>NaN</td>\n",
       "      <td>NaN</td>\n",
       "      <td>0</td>\n",
       "    </tr>\n",
       "    <tr>\n",
       "      <th>...</th>\n",
       "      <td>...</td>\n",
       "      <td>...</td>\n",
       "      <td>...</td>\n",
       "      <td>...</td>\n",
       "      <td>...</td>\n",
       "      <td>...</td>\n",
       "    </tr>\n",
       "    <tr>\n",
       "      <th>14240</th>\n",
       "      <td>япония вакансии</td>\n",
       "      <td>NaN</td>\n",
       "      <td>NaN</td>\n",
       "      <td>NaN</td>\n",
       "      <td>NaN</td>\n",
       "      <td>1</td>\n",
       "    </tr>\n",
       "    <tr>\n",
       "      <th>14241</th>\n",
       "      <td>япония работа</td>\n",
       "      <td>NaN</td>\n",
       "      <td>NaN</td>\n",
       "      <td>NaN</td>\n",
       "      <td>NaN</td>\n",
       "      <td>1</td>\n",
       "    </tr>\n",
       "    <tr>\n",
       "      <th>14242</th>\n",
       "      <td>японский язык работа</td>\n",
       "      <td>NaN</td>\n",
       "      <td>NaN</td>\n",
       "      <td>NaN</td>\n",
       "      <td>NaN</td>\n",
       "      <td>1</td>\n",
       "    </tr>\n",
       "    <tr>\n",
       "      <th>14243</th>\n",
       "      <td>яппи вакансии</td>\n",
       "      <td>NaN</td>\n",
       "      <td>NaN</td>\n",
       "      <td>NaN</td>\n",
       "      <td>NaN</td>\n",
       "      <td>1</td>\n",
       "    </tr>\n",
       "    <tr>\n",
       "      <th>14244</th>\n",
       "      <td>ёбидоёби вакансии</td>\n",
       "      <td>NaN</td>\n",
       "      <td>NaN</td>\n",
       "      <td>NaN</td>\n",
       "      <td>NaN</td>\n",
       "      <td>1</td>\n",
       "    </tr>\n",
       "  </tbody>\n",
       "</table>\n",
       "<p>14245 rows × 6 columns</p>\n",
       "</div>"
      ],
      "text/plain": [
       "                                              query           занятость  \\\n",
       "0                        фарпост работа владивосток                 NaN   \n",
       "1                                  кофейни вакансии                 NaN   \n",
       "2                       работа разнорабочие часовой                 NaN   \n",
       "3                           личный водитель на день  [на неполный день]   \n",
       "4      работа от работодателя персональный водитель                 NaN   \n",
       "...                                             ...                 ...   \n",
       "14240                               япония вакансии                 NaN   \n",
       "14241                                 япония работа                 NaN   \n",
       "14242                          японский язык работа                 NaN   \n",
       "14243                                 яппи вакансии                 NaN   \n",
       "14244                             ёбидоёби вакансии                 NaN   \n",
       "\n",
       "      по должности-лемме по дополнительному признаку по условиям  общие фразы  \n",
       "0                    NaN                         NaN         NaN            1  \n",
       "1                    NaN                         NaN         NaN            1  \n",
       "2                рабочий                         NaN         NaN            0  \n",
       "3               водитель                         NaN         NaN            0  \n",
       "4               водитель                         NaN         NaN            0  \n",
       "...                  ...                         ...         ...          ...  \n",
       "14240                NaN                         NaN         NaN            1  \n",
       "14241                NaN                         NaN         NaN            1  \n",
       "14242                NaN                         NaN         NaN            1  \n",
       "14243                NaN                         NaN         NaN            1  \n",
       "14244                NaN                         NaN         NaN            1  \n",
       "\n",
       "[14245 rows x 6 columns]"
      ]
     },
     "execution_count": 105,
     "metadata": {},
     "output_type": "execute_result"
    }
   ],
   "source": [
    "df_mc = df_mc.fillna(\"NaN\")\n",
    "df_mc"
   ]
  },
  {
   "cell_type": "code",
   "execution_count": 106,
   "metadata": {},
   "outputs": [],
   "source": [
    "df_mc.to_csv(\"data/clear_dataset.csv\", index=False)"
   ]
  },
  {
   "cell_type": "code",
   "execution_count": null,
   "metadata": {},
   "outputs": [],
   "source": []
  }
 ],
 "metadata": {
  "kernelspec": {
   "display_name": "Python 3",
   "language": "python",
   "name": "python3"
  },
  "language_info": {
   "codemirror_mode": {
    "name": "ipython",
    "version": 3
   },
   "file_extension": ".py",
   "mimetype": "text/x-python",
   "name": "python",
   "nbconvert_exporter": "python",
   "pygments_lexer": "ipython3",
   "version": "3.10.12"
  }
 },
 "nbformat": 4,
 "nbformat_minor": 2
}
